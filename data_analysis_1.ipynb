{
 "cells": [
  {
   "cell_type": "code",
   "execution_count": 69,
   "id": "311e28d2",
   "metadata": {},
   "outputs": [],
   "source": [
    "import pandas as pd\n",
    "import matplotlib.pyplot as plt"
   ]
  },
  {
   "cell_type": "code",
   "execution_count": 70,
   "id": "a2f0bd88",
   "metadata": {},
   "outputs": [],
   "source": [
    "data = pd.read_csv(r\"C:\\Users\\ASUS\\Documents\\veri analizi 1\\new_bike_sales.csv\", sep=';') #veri setini okumak"
   ]
  },
  {
   "cell_type": "code",
   "execution_count": 81,
   "id": "4e5506b5",
   "metadata": {},
   "outputs": [
    {
     "name": "stdout",
     "output_type": "stream",
     "text": [
      "              Date  Day     Month  Year  Customer_Age       Age_Group  \\\n",
      "0       26.11.2013   26  November  2013            19     Youth (<25)   \n",
      "1       26.11.2015   26  November  2015            19     Youth (<25)   \n",
      "2       23.03.2014   23     March  2014            49  Adults (35-64)   \n",
      "3       23.03.2016   23     March  2016            49  Adults (35-64)   \n",
      "4       15.05.2014   15       May  2014            47  Adults (35-64)   \n",
      "...            ...  ...       ...   ...           ...             ...   \n",
      "113031  12.04.2016   12     April  2016            41  Adults (35-64)   \n",
      "113032   2.04.2014    2     April  2014            18     Youth (<25)   \n",
      "113033   2.04.2016    2     April  2016            18     Youth (<25)   \n",
      "113034   4.03.2014    4     March  2014            37  Adults (35-64)   \n",
      "113035   4.03.2016    4     March  2016            37  Adults (35-64)   \n",
      "\n",
      "       Customer_Gender         Country             State Product_Category  \\\n",
      "0                    M          Canada  British Columbia      Accessories   \n",
      "1                    M          Canada  British Columbia      Accessories   \n",
      "2                    M       Australia   New South Wales      Accessories   \n",
      "3                    M       Australia   New South Wales      Accessories   \n",
      "4                    F       Australia   New South Wales      Accessories   \n",
      "...                ...             ...               ...              ...   \n",
      "113031               M  United Kingdom           England         Clothing   \n",
      "113032               M       Australia        Queensland         Clothing   \n",
      "113033               M       Australia        Queensland         Clothing   \n",
      "113034               F          France     Seine (Paris)         Clothing   \n",
      "113035               F          France     Seine (Paris)         Clothing   \n",
      "\n",
      "       Sub_Category              Product  Order_Quantity  Unit_Cost  \\\n",
      "0        Bike Racks  Hitch Rack - 4-Bike               8         45   \n",
      "1        Bike Racks  Hitch Rack - 4-Bike               8         45   \n",
      "2        Bike Racks  Hitch Rack - 4-Bike              23         45   \n",
      "3        Bike Racks  Hitch Rack - 4-Bike              20         45   \n",
      "4        Bike Racks  Hitch Rack - 4-Bike               4         45   \n",
      "...             ...                  ...             ...        ...   \n",
      "113031        Vests      Classic Vest, S               3         24   \n",
      "113032        Vests      Classic Vest, M              22         24   \n",
      "113033        Vests      Classic Vest, M              22         24   \n",
      "113034        Vests      Classic Vest, L              24         24   \n",
      "113035        Vests      Classic Vest, L              23         24   \n",
      "\n",
      "        Unit_Price  Profit  Cost  Revenue  \n",
      "0              120     600   360      960  \n",
      "1              120     600   360      960  \n",
      "2              120    1725  1035     2760  \n",
      "3              120    1500   900     2400  \n",
      "4              120     300   180      480  \n",
      "...            ...     ...   ...      ...  \n",
      "113031          64     120    72      192  \n",
      "113032          64     880   528     1408  \n",
      "113033          64     880   528     1408  \n",
      "113034          64     960   576     1536  \n",
      "113035          64     920   552     1472  \n",
      "\n",
      "[112036 rows x 18 columns]\n"
     ]
    }
   ],
   "source": [
    "print(data)"
   ]
  },
  {
   "cell_type": "code",
   "execution_count": 72,
   "id": "5c0b6354",
   "metadata": {},
   "outputs": [
    {
     "name": "stdout",
     "output_type": "stream",
     "text": [
      "Date                0\n",
      "Day                 0\n",
      "Month               0\n",
      "Year                0\n",
      "Customer_Age        0\n",
      "Age_Group           0\n",
      "Customer_Gender     0\n",
      "Country             0\n",
      "State               0\n",
      "Product_Category    0\n",
      "Sub_Category        0\n",
      "Product             0\n",
      "Order_Quantity      0\n",
      "Unit_Cost           0\n",
      "Unit_Price          0\n",
      "Profit              0\n",
      "Cost                0\n",
      "Revenue             0\n",
      "dtype: int64\n"
     ]
    }
   ],
   "source": [
    "print(data.isnull().sum()) #null değerlerin kategorilerine ayrılmış olarak toplamı"
   ]
  },
  {
   "cell_type": "code",
   "execution_count": 73,
   "id": "364af296",
   "metadata": {},
   "outputs": [],
   "source": [
    " data.drop_duplicates(inplace = True) #tekrar eden satırları silme"
   ]
  },
  {
   "cell_type": "code",
   "execution_count": 154,
   "id": "17cac825",
   "metadata": {},
   "outputs": [],
   "source": [
    "order_quantity=data['Order_Quantity'].sum()  #satış miktarları toplamı\n",
    "total_cost = data['Cost'].sum()  #maliyet toplamı\n",
    "total_revenue=data['Revenue'].sum() #gelir toplamı\n",
    "profit= data['Profit'].sum()  #net gelir toplamı\n",
    "genders= data.groupby('Customer_Gender').sum() #cinsiyete göre tüm kategorilerin toplamı"
   ]
  },
  {
   "cell_type": "code",
   "execution_count": 155,
   "id": "9a18ff26",
   "metadata": {},
   "outputs": [],
   "source": [
    "bike_sales = data[data['Product_Category'] == 'Bikes']  #bisiklet satışlarının ayrıştırılamsı\n",
    "clothing_sales = data[data['Product_Category'] == 'Clothing']  #kıyafet satışlarının ayrıştırılması\n",
    "accessories_sales = data[data['Product_Category'] == 'Accessories']  #aksesuar satışlarının ayrıştırılması"
   ]
  },
  {
   "cell_type": "code",
   "execution_count": 156,
   "id": "e1d8f68c",
   "metadata": {},
   "outputs": [],
   "source": [
    "t_bike_sales_by_gender = bike_sales.groupby('Customer_Gender')['Order_Quantity'].sum()  #toplam bisiklet satışları\n",
    "t_clothing_sales_by_gender = clothing_sales.groupby('Customer_Gender')['Order_Quantity'].sum()  #toplam kıyafet satışları\n",
    "t_accessories_sales_by_gender = accessories_sales.groupby('Customer_Gender')['Order_Quantity'].sum()  #toplam aksesuar satışları"
   ]
  },
  {
   "cell_type": "code",
   "execution_count": 157,
   "id": "ae31ec6b",
   "metadata": {
    "scrolled": true
   },
   "outputs": [
    {
     "name": "stdout",
     "output_type": "stream",
     "text": [
      "Customer_Gender\n",
      "F    17939\n",
      "M    18262\n",
      "Name: Order_Quantity, dtype: int64\n"
     ]
    }
   ],
   "source": [
    "print(t_bike_sales_by_gender)"
   ]
  },
  {
   "cell_type": "code",
   "execution_count": 158,
   "id": "6723683f",
   "metadata": {},
   "outputs": [
    {
     "name": "stdout",
     "output_type": "stream",
     "text": [
      "Customer_Gender\n",
      "F    120588\n",
      "M    134125\n",
      "Name: Order_Quantity, dtype: int64\n"
     ]
    }
   ],
   "source": [
    "print(t_clothing_sales_by_gender)"
   ]
  },
  {
   "cell_type": "code",
   "execution_count": 159,
   "id": "1b6058b8",
   "metadata": {},
   "outputs": [
    {
     "name": "stdout",
     "output_type": "stream",
     "text": [
      "Customer_Gender\n",
      "F    501431\n",
      "M    541360\n",
      "Name: Order_Quantity, dtype: int64\n"
     ]
    }
   ],
   "source": [
    "print(t_accessories_sales_by_gender)"
   ]
  },
  {
   "cell_type": "code",
   "execution_count": 168,
   "id": "f4dbfb1f",
   "metadata": {},
   "outputs": [
    {
     "data": {
      "text/plain": [
       "<matplotlib.legend.Legend at 0x288dd328f40>"
      ]
     },
     "execution_count": 168,
     "metadata": {},
     "output_type": "execute_result"
    },
    {
     "data": {
      "image/png": "[encoded data removed]",
      "text/plain": [
       "<Figure size 640x480 with 1 Axes>"
      ]
     },
     "metadata": {},
     "output_type": "display_data"
    }
   ],
   "source": [
    "fig, ax = plt.subplots()  # bar grafiği oluşturma\n",
    "\n",
    "index = range(len(genders.index))  # Cinsiyet kategorilerini indekslemek\n",
    "bar_width = 0.2  # Bar genişliği\n",
    "\n",
    "# barların çizilmesi\n",
    "plt.bar(index, t_bike_sales_by_gender, bar_width, color='r', label='Bisiklet')\n",
    "plt.bar([i + bar_width for i in index], t_clothing_sales_by_gender, bar_width, color='g', label='Kıyafet')\n",
    "plt.bar([i + 2 * bar_width for i in index], t_accessories_sales_by_gender, bar_width, color='b', label='Aksesuar')\n",
    "\n",
    "plt.xlabel(\"Cinsiyet\", fontweight ='bold', fontsize = 10)\n",
    "plt.ylabel(\"Satış Miktarı\", fontweight ='bold', fontsize = 10)\n",
    "plt.title(\"Cinsiyete Göre Satış Miktarları\", fontweight ='bold', fontsize = 15)\n",
    "plt.xticks([i + bar_width for i in index], genders.index) # X ekseni etiketlerini ayarlar\n",
    "plt.tight_layout()\n",
    "plt.legend() # Grafikteki barların etiketlerini (label) gösterir"
   ]
  }
 ],
 "metadata": {
  "kernelspec": {
   "display_name": "Python 3 (ipykernel)",
   "language": "python",
   "name": "python3"
  },
  "language_info": {
   "codemirror_mode": {
    "name": "ipython",
    "version": 3
   },
   "file_extension": ".py",
   "mimetype": "text/x-python",
   "name": "python",
   "nbconvert_exporter": "python",
   "pygments_lexer": "ipython3",
   "version": "3.9.19"
  }
 },
 "nbformat": 4,
 "nbformat_minor": 5
}
